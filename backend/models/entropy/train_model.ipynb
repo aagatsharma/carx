{
 "cells": [
  {
   "cell_type": "code",
   "execution_count": 54,
   "id": "2a06e7f4-7236-46e2-8beb-b6c617d2bc89",
   "metadata": {},
   "outputs": [],
   "source": [
    "import pandas as pd\n",
    "import numpy as np"
   ]
  },
  {
   "cell_type": "code",
   "execution_count": 55,
   "id": "5f2e7704-3410-47d4-95c6-3be310cf52c4",
   "metadata": {},
   "outputs": [],
   "source": [
    "df = pd.read_csv(\"./cardekho.csv\", index_col=[0])"
   ]
  },
  {
   "cell_type": "code",
   "execution_count": 56,
   "id": "f702da68-ca32-4388-965a-cc3160d496f2",
   "metadata": {},
   "outputs": [
    {
     "data": {
      "text/html": [
       "<div>\n",
       "<style scoped>\n",
       "    .dataframe tbody tr th:only-of-type {\n",
       "        vertical-align: middle;\n",
       "    }\n",
       "\n",
       "    .dataframe tbody tr th {\n",
       "        vertical-align: top;\n",
       "    }\n",
       "\n",
       "    .dataframe thead th {\n",
       "        text-align: right;\n",
       "    }\n",
       "</style>\n",
       "<table border=\"1\" class=\"dataframe\">\n",
       "  <thead>\n",
       "    <tr style=\"text-align: right;\">\n",
       "      <th></th>\n",
       "      <th>car_name</th>\n",
       "      <th>brand</th>\n",
       "      <th>model</th>\n",
       "      <th>vehicle_age</th>\n",
       "      <th>km_driven</th>\n",
       "      <th>seller_type</th>\n",
       "      <th>fuel_type</th>\n",
       "      <th>transmission_type</th>\n",
       "      <th>mileage</th>\n",
       "      <th>engine</th>\n",
       "      <th>max_power</th>\n",
       "      <th>seats</th>\n",
       "      <th>selling_price</th>\n",
       "    </tr>\n",
       "  </thead>\n",
       "  <tbody>\n",
       "    <tr>\n",
       "      <th>0</th>\n",
       "      <td>Maruti Alto</td>\n",
       "      <td>Maruti</td>\n",
       "      <td>Alto</td>\n",
       "      <td>9</td>\n",
       "      <td>120000</td>\n",
       "      <td>Individual</td>\n",
       "      <td>Petrol</td>\n",
       "      <td>Manual</td>\n",
       "      <td>19.70</td>\n",
       "      <td>796</td>\n",
       "      <td>46.30</td>\n",
       "      <td>5</td>\n",
       "      <td>120000</td>\n",
       "    </tr>\n",
       "    <tr>\n",
       "      <th>1</th>\n",
       "      <td>Hyundai Grand</td>\n",
       "      <td>Hyundai</td>\n",
       "      <td>Grand</td>\n",
       "      <td>5</td>\n",
       "      <td>20000</td>\n",
       "      <td>Individual</td>\n",
       "      <td>Petrol</td>\n",
       "      <td>Manual</td>\n",
       "      <td>18.90</td>\n",
       "      <td>1197</td>\n",
       "      <td>82.00</td>\n",
       "      <td>5</td>\n",
       "      <td>550000</td>\n",
       "    </tr>\n",
       "    <tr>\n",
       "      <th>2</th>\n",
       "      <td>Hyundai i20</td>\n",
       "      <td>Hyundai</td>\n",
       "      <td>i20</td>\n",
       "      <td>11</td>\n",
       "      <td>60000</td>\n",
       "      <td>Individual</td>\n",
       "      <td>Petrol</td>\n",
       "      <td>Manual</td>\n",
       "      <td>17.00</td>\n",
       "      <td>1197</td>\n",
       "      <td>80.00</td>\n",
       "      <td>5</td>\n",
       "      <td>215000</td>\n",
       "    </tr>\n",
       "    <tr>\n",
       "      <th>3</th>\n",
       "      <td>Maruti Alto</td>\n",
       "      <td>Maruti</td>\n",
       "      <td>Alto</td>\n",
       "      <td>9</td>\n",
       "      <td>37000</td>\n",
       "      <td>Individual</td>\n",
       "      <td>Petrol</td>\n",
       "      <td>Manual</td>\n",
       "      <td>20.92</td>\n",
       "      <td>998</td>\n",
       "      <td>67.10</td>\n",
       "      <td>5</td>\n",
       "      <td>226000</td>\n",
       "    </tr>\n",
       "    <tr>\n",
       "      <th>4</th>\n",
       "      <td>Ford Ecosport</td>\n",
       "      <td>Ford</td>\n",
       "      <td>Ecosport</td>\n",
       "      <td>6</td>\n",
       "      <td>30000</td>\n",
       "      <td>Dealer</td>\n",
       "      <td>Diesel</td>\n",
       "      <td>Manual</td>\n",
       "      <td>22.77</td>\n",
       "      <td>1498</td>\n",
       "      <td>98.59</td>\n",
       "      <td>5</td>\n",
       "      <td>570000</td>\n",
       "    </tr>\n",
       "  </tbody>\n",
       "</table>\n",
       "</div>"
      ],
      "text/plain": [
       "        car_name    brand     model  vehicle_age  km_driven seller_type  \\\n",
       "0    Maruti Alto   Maruti      Alto            9     120000  Individual   \n",
       "1  Hyundai Grand  Hyundai     Grand            5      20000  Individual   \n",
       "2    Hyundai i20  Hyundai       i20           11      60000  Individual   \n",
       "3    Maruti Alto   Maruti      Alto            9      37000  Individual   \n",
       "4  Ford Ecosport     Ford  Ecosport            6      30000      Dealer   \n",
       "\n",
       "  fuel_type transmission_type  mileage  engine  max_power  seats  \\\n",
       "0    Petrol            Manual    19.70     796      46.30      5   \n",
       "1    Petrol            Manual    18.90    1197      82.00      5   \n",
       "2    Petrol            Manual    17.00    1197      80.00      5   \n",
       "3    Petrol            Manual    20.92     998      67.10      5   \n",
       "4    Diesel            Manual    22.77    1498      98.59      5   \n",
       "\n",
       "   selling_price  \n",
       "0         120000  \n",
       "1         550000  \n",
       "2         215000  \n",
       "3         226000  \n",
       "4         570000  "
      ]
     },
     "execution_count": 56,
     "metadata": {},
     "output_type": "execute_result"
    }
   ],
   "source": [
    "df.head()"
   ]
  },
  {
   "cell_type": "code",
   "execution_count": 57,
   "id": "c7318758-a5f7-4404-a8f9-0ed35492cae1",
   "metadata": {},
   "outputs": [
    {
     "name": "stdout",
     "output_type": "stream",
     "text": [
      "<class 'pandas.core.frame.DataFrame'>\n",
      "Index: 15411 entries, 0 to 19543\n",
      "Data columns (total 13 columns):\n",
      " #   Column             Non-Null Count  Dtype  \n",
      "---  ------             --------------  -----  \n",
      " 0   car_name           15411 non-null  object \n",
      " 1   brand              15411 non-null  object \n",
      " 2   model              15411 non-null  object \n",
      " 3   vehicle_age        15411 non-null  int64  \n",
      " 4   km_driven          15411 non-null  int64  \n",
      " 5   seller_type        15411 non-null  object \n",
      " 6   fuel_type          15411 non-null  object \n",
      " 7   transmission_type  15411 non-null  object \n",
      " 8   mileage            15411 non-null  float64\n",
      " 9   engine             15411 non-null  int64  \n",
      " 10  max_power          15411 non-null  float64\n",
      " 11  seats              15411 non-null  int64  \n",
      " 12  selling_price      15411 non-null  int64  \n",
      "dtypes: float64(2), int64(5), object(6)\n",
      "memory usage: 1.6+ MB\n"
     ]
    }
   ],
   "source": [
    "df.info()"
   ]
  },
  {
   "cell_type": "code",
   "execution_count": 58,
   "id": "f943d7da-4fd8-4bc4-a1be-63d5fcce5852",
   "metadata": {},
   "outputs": [
    {
     "data": {
      "text/html": [
       "<div>\n",
       "<style scoped>\n",
       "    .dataframe tbody tr th:only-of-type {\n",
       "        vertical-align: middle;\n",
       "    }\n",
       "\n",
       "    .dataframe tbody tr th {\n",
       "        vertical-align: top;\n",
       "    }\n",
       "\n",
       "    .dataframe thead th {\n",
       "        text-align: right;\n",
       "    }\n",
       "</style>\n",
       "<table border=\"1\" class=\"dataframe\">\n",
       "  <thead>\n",
       "    <tr style=\"text-align: right;\">\n",
       "      <th></th>\n",
       "      <th>vehicle_age</th>\n",
       "      <th>km_driven</th>\n",
       "      <th>mileage</th>\n",
       "      <th>engine</th>\n",
       "      <th>max_power</th>\n",
       "      <th>seats</th>\n",
       "      <th>selling_price</th>\n",
       "    </tr>\n",
       "  </thead>\n",
       "  <tbody>\n",
       "    <tr>\n",
       "      <th>count</th>\n",
       "      <td>15411.000000</td>\n",
       "      <td>1.541100e+04</td>\n",
       "      <td>15411.000000</td>\n",
       "      <td>15411.000000</td>\n",
       "      <td>15411.000000</td>\n",
       "      <td>15411.000000</td>\n",
       "      <td>1.541100e+04</td>\n",
       "    </tr>\n",
       "    <tr>\n",
       "      <th>mean</th>\n",
       "      <td>6.036338</td>\n",
       "      <td>5.561648e+04</td>\n",
       "      <td>19.701151</td>\n",
       "      <td>1486.057751</td>\n",
       "      <td>100.588254</td>\n",
       "      <td>5.325482</td>\n",
       "      <td>7.749711e+05</td>\n",
       "    </tr>\n",
       "    <tr>\n",
       "      <th>std</th>\n",
       "      <td>3.013291</td>\n",
       "      <td>5.161855e+04</td>\n",
       "      <td>4.171265</td>\n",
       "      <td>521.106696</td>\n",
       "      <td>42.972979</td>\n",
       "      <td>0.807628</td>\n",
       "      <td>8.941284e+05</td>\n",
       "    </tr>\n",
       "    <tr>\n",
       "      <th>min</th>\n",
       "      <td>0.000000</td>\n",
       "      <td>1.000000e+02</td>\n",
       "      <td>4.000000</td>\n",
       "      <td>793.000000</td>\n",
       "      <td>38.400000</td>\n",
       "      <td>0.000000</td>\n",
       "      <td>4.000000e+04</td>\n",
       "    </tr>\n",
       "    <tr>\n",
       "      <th>25%</th>\n",
       "      <td>4.000000</td>\n",
       "      <td>3.000000e+04</td>\n",
       "      <td>17.000000</td>\n",
       "      <td>1197.000000</td>\n",
       "      <td>74.000000</td>\n",
       "      <td>5.000000</td>\n",
       "      <td>3.850000e+05</td>\n",
       "    </tr>\n",
       "    <tr>\n",
       "      <th>50%</th>\n",
       "      <td>6.000000</td>\n",
       "      <td>5.000000e+04</td>\n",
       "      <td>19.670000</td>\n",
       "      <td>1248.000000</td>\n",
       "      <td>88.500000</td>\n",
       "      <td>5.000000</td>\n",
       "      <td>5.560000e+05</td>\n",
       "    </tr>\n",
       "    <tr>\n",
       "      <th>75%</th>\n",
       "      <td>8.000000</td>\n",
       "      <td>7.000000e+04</td>\n",
       "      <td>22.700000</td>\n",
       "      <td>1582.000000</td>\n",
       "      <td>117.300000</td>\n",
       "      <td>5.000000</td>\n",
       "      <td>8.250000e+05</td>\n",
       "    </tr>\n",
       "    <tr>\n",
       "      <th>max</th>\n",
       "      <td>29.000000</td>\n",
       "      <td>3.800000e+06</td>\n",
       "      <td>33.540000</td>\n",
       "      <td>6592.000000</td>\n",
       "      <td>626.000000</td>\n",
       "      <td>9.000000</td>\n",
       "      <td>3.950000e+07</td>\n",
       "    </tr>\n",
       "  </tbody>\n",
       "</table>\n",
       "</div>"
      ],
      "text/plain": [
       "        vehicle_age     km_driven       mileage        engine     max_power  \\\n",
       "count  15411.000000  1.541100e+04  15411.000000  15411.000000  15411.000000   \n",
       "mean       6.036338  5.561648e+04     19.701151   1486.057751    100.588254   \n",
       "std        3.013291  5.161855e+04      4.171265    521.106696     42.972979   \n",
       "min        0.000000  1.000000e+02      4.000000    793.000000     38.400000   \n",
       "25%        4.000000  3.000000e+04     17.000000   1197.000000     74.000000   \n",
       "50%        6.000000  5.000000e+04     19.670000   1248.000000     88.500000   \n",
       "75%        8.000000  7.000000e+04     22.700000   1582.000000    117.300000   \n",
       "max       29.000000  3.800000e+06     33.540000   6592.000000    626.000000   \n",
       "\n",
       "              seats  selling_price  \n",
       "count  15411.000000   1.541100e+04  \n",
       "mean       5.325482   7.749711e+05  \n",
       "std        0.807628   8.941284e+05  \n",
       "min        0.000000   4.000000e+04  \n",
       "25%        5.000000   3.850000e+05  \n",
       "50%        5.000000   5.560000e+05  \n",
       "75%        5.000000   8.250000e+05  \n",
       "max        9.000000   3.950000e+07  "
      ]
     },
     "execution_count": 58,
     "metadata": {},
     "output_type": "execute_result"
    }
   ],
   "source": [
    "df.describe()"
   ]
  },
  {
   "cell_type": "code",
   "execution_count": null,
   "id": "abda7dd8-aade-4c69-8f91-a4e675a2397f",
   "metadata": {},
   "outputs": [],
   "source": []
  },
  {
   "cell_type": "code",
   "execution_count": 59,
   "id": "6f52d25c-dc3d-4359-9d56-c6d096a4c5da",
   "metadata": {},
   "outputs": [],
   "source": [
    "# 1. Data Cleaning"
   ]
  },
  {
   "cell_type": "code",
   "execution_count": 60,
   "id": "be052dc0-538d-4e31-8f73-35e0f929cda0",
   "metadata": {},
   "outputs": [],
   "source": [
    "# 1.1 Handling Typographical Errors"
   ]
  },
  {
   "cell_type": "code",
   "execution_count": 61,
   "id": "f47442bb-56f0-43a0-b06b-9c3be3d5814e",
   "metadata": {},
   "outputs": [
    {
     "name": "stdout",
     "output_type": "stream",
     "text": [
      "car_name\n",
      "Hyundai i20              906\n",
      "Maruti Swift Dzire       890\n",
      "Maruti Swift             781\n",
      "Maruti Alto              778\n",
      "Honda City               757\n",
      "                        ... \n",
      "Mercedes-AMG C             1\n",
      "Rolls-Royce Ghost          1\n",
      "Maserati Quattroporte      1\n",
      "Isuzu MUX                  1\n",
      "Force Gurkha               1\n",
      "Name: count, Length: 121, dtype: int64\n",
      "\n",
      "brand\n",
      "Maruti           4992\n",
      "Hyundai          2982\n",
      "Honda            1485\n",
      "Mahindra         1011\n",
      "Toyota            793\n",
      "Ford              790\n",
      "Volkswagen        620\n",
      "Renault           536\n",
      "BMW               439\n",
      "Tata              430\n",
      "Mercedes-Benz     337\n",
      "Skoda             334\n",
      "Audi              192\n",
      "Datsun            170\n",
      "Jaguar             59\n",
      "Land Rover         51\n",
      "Jeep               41\n",
      "Kia                32\n",
      "Porsche            21\n",
      "Volvo              20\n",
      "MG                 19\n",
      "Mini               17\n",
      "Nissan             11\n",
      "Lexus              10\n",
      "Isuzu               8\n",
      "Bentley             3\n",
      "Maserati            2\n",
      "ISUZU               2\n",
      "Ferrari             1\n",
      "Mercedes-AMG        1\n",
      "Rolls-Royce         1\n",
      "Force               1\n",
      "Name: count, dtype: int64\n",
      "\n",
      "model\n",
      "i20             906\n",
      "Swift Dzire     890\n",
      "Swift           781\n",
      "Alto            778\n",
      "City            757\n",
      "               ... \n",
      "Altroz            1\n",
      "C                 1\n",
      "Ghost             1\n",
      "Quattroporte      1\n",
      "Gurkha            1\n",
      "Name: count, Length: 120, dtype: int64\n",
      "\n",
      "seller_type\n",
      "Dealer              9539\n",
      "Individual          5699\n",
      "Trustmark Dealer     173\n",
      "Name: count, dtype: int64\n",
      "\n",
      "fuel_type\n",
      "Petrol      7643\n",
      "Diesel      7419\n",
      "CNG          301\n",
      "LPG           44\n",
      "Electric       4\n",
      "Name: count, dtype: int64\n",
      "\n",
      "transmission_type\n",
      "Manual       12225\n",
      "Automatic     3186\n",
      "Name: count, dtype: int64\n",
      "\n"
     ]
    }
   ],
   "source": [
    "# Printing unique entries in all categorical columns\n",
    "# Getting a list of all categorical columns\n",
    "cat_cols = df.select_dtypes('object').columns.to_list()\n",
    "# Printing unique entries to check for data entry errors\n",
    "for column in cat_cols:\n",
    "    print(df[column].value_counts(), end=\"\\n\\n\")"
   ]
  },
  {
   "cell_type": "code",
   "execution_count": 62,
   "id": "ed631b2d-e4eb-4560-839f-0ecc86d9a205",
   "metadata": {},
   "outputs": [],
   "source": [
    "# 1.2 Handling Missing Values"
   ]
  },
  {
   "cell_type": "code",
   "execution_count": 63,
   "id": "420c228a-c86a-4f77-9151-b66ee7e24472",
   "metadata": {},
   "outputs": [
    {
     "data": {
      "text/plain": [
       "car_name             0\n",
       "brand                0\n",
       "model                0\n",
       "vehicle_age          0\n",
       "km_driven            0\n",
       "seller_type          0\n",
       "fuel_type            0\n",
       "transmission_type    0\n",
       "mileage              0\n",
       "engine               0\n",
       "max_power            0\n",
       "seats                0\n",
       "selling_price        0\n",
       "dtype: int64"
      ]
     },
     "execution_count": 63,
     "metadata": {},
     "output_type": "execute_result"
    }
   ],
   "source": [
    "# Checking for null values\n",
    "df.isnull().sum()"
   ]
  },
  {
   "cell_type": "code",
   "execution_count": 64,
   "id": "ab5ff520-70eb-442b-ab1a-a649528b1111",
   "metadata": {},
   "outputs": [],
   "source": [
    "# 1.3 Handling Duplicates"
   ]
  },
  {
   "cell_type": "code",
   "execution_count": 65,
   "id": "6fe2c2ad-f00a-4e8d-9860-43c1ce0e3556",
   "metadata": {},
   "outputs": [
    {
     "data": {
      "text/html": [
       "<div>\n",
       "<style scoped>\n",
       "    .dataframe tbody tr th:only-of-type {\n",
       "        vertical-align: middle;\n",
       "    }\n",
       "\n",
       "    .dataframe tbody tr th {\n",
       "        vertical-align: top;\n",
       "    }\n",
       "\n",
       "    .dataframe thead th {\n",
       "        text-align: right;\n",
       "    }\n",
       "</style>\n",
       "<table border=\"1\" class=\"dataframe\">\n",
       "  <thead>\n",
       "    <tr style=\"text-align: right;\">\n",
       "      <th></th>\n",
       "      <th>car_name</th>\n",
       "      <th>brand</th>\n",
       "      <th>model</th>\n",
       "      <th>vehicle_age</th>\n",
       "      <th>km_driven</th>\n",
       "      <th>seller_type</th>\n",
       "      <th>fuel_type</th>\n",
       "      <th>transmission_type</th>\n",
       "      <th>mileage</th>\n",
       "      <th>engine</th>\n",
       "      <th>max_power</th>\n",
       "      <th>seats</th>\n",
       "      <th>selling_price</th>\n",
       "    </tr>\n",
       "  </thead>\n",
       "  <tbody>\n",
       "    <tr>\n",
       "      <th>31</th>\n",
       "      <td>Maruti Swift Dzire</td>\n",
       "      <td>Maruti</td>\n",
       "      <td>Swift Dzire</td>\n",
       "      <td>6</td>\n",
       "      <td>90000</td>\n",
       "      <td>Individual</td>\n",
       "      <td>Diesel</td>\n",
       "      <td>Manual</td>\n",
       "      <td>26.59</td>\n",
       "      <td>1248</td>\n",
       "      <td>74.00</td>\n",
       "      <td>5</td>\n",
       "      <td>600000</td>\n",
       "    </tr>\n",
       "    <tr>\n",
       "      <th>90</th>\n",
       "      <td>Honda City</td>\n",
       "      <td>Honda</td>\n",
       "      <td>City</td>\n",
       "      <td>8</td>\n",
       "      <td>70000</td>\n",
       "      <td>Individual</td>\n",
       "      <td>Petrol</td>\n",
       "      <td>Manual</td>\n",
       "      <td>16.80</td>\n",
       "      <td>1497</td>\n",
       "      <td>116.30</td>\n",
       "      <td>5</td>\n",
       "      <td>545000</td>\n",
       "    </tr>\n",
       "    <tr>\n",
       "      <th>210</th>\n",
       "      <td>Maruti Alto</td>\n",
       "      <td>Maruti</td>\n",
       "      <td>Alto</td>\n",
       "      <td>2</td>\n",
       "      <td>25000</td>\n",
       "      <td>Individual</td>\n",
       "      <td>Petrol</td>\n",
       "      <td>Manual</td>\n",
       "      <td>24.70</td>\n",
       "      <td>796</td>\n",
       "      <td>47.30</td>\n",
       "      <td>5</td>\n",
       "      <td>310000</td>\n",
       "    </tr>\n",
       "    <tr>\n",
       "      <th>261</th>\n",
       "      <td>Honda City</td>\n",
       "      <td>Honda</td>\n",
       "      <td>City</td>\n",
       "      <td>8</td>\n",
       "      <td>70000</td>\n",
       "      <td>Individual</td>\n",
       "      <td>Petrol</td>\n",
       "      <td>Manual</td>\n",
       "      <td>16.80</td>\n",
       "      <td>1497</td>\n",
       "      <td>116.30</td>\n",
       "      <td>5</td>\n",
       "      <td>545000</td>\n",
       "    </tr>\n",
       "    <tr>\n",
       "      <th>281</th>\n",
       "      <td>Renault KWID</td>\n",
       "      <td>Renault</td>\n",
       "      <td>KWID</td>\n",
       "      <td>4</td>\n",
       "      <td>35000</td>\n",
       "      <td>Individual</td>\n",
       "      <td>Petrol</td>\n",
       "      <td>Automatic</td>\n",
       "      <td>24.04</td>\n",
       "      <td>999</td>\n",
       "      <td>67.00</td>\n",
       "      <td>5</td>\n",
       "      <td>350000</td>\n",
       "    </tr>\n",
       "    <tr>\n",
       "      <th>...</th>\n",
       "      <td>...</td>\n",
       "      <td>...</td>\n",
       "      <td>...</td>\n",
       "      <td>...</td>\n",
       "      <td>...</td>\n",
       "      <td>...</td>\n",
       "      <td>...</td>\n",
       "      <td>...</td>\n",
       "      <td>...</td>\n",
       "      <td>...</td>\n",
       "      <td>...</td>\n",
       "      <td>...</td>\n",
       "      <td>...</td>\n",
       "    </tr>\n",
       "    <tr>\n",
       "      <th>19311</th>\n",
       "      <td>Maruti Swift</td>\n",
       "      <td>Maruti</td>\n",
       "      <td>Swift</td>\n",
       "      <td>8</td>\n",
       "      <td>80000</td>\n",
       "      <td>Individual</td>\n",
       "      <td>Diesel</td>\n",
       "      <td>Manual</td>\n",
       "      <td>22.90</td>\n",
       "      <td>1248</td>\n",
       "      <td>74.00</td>\n",
       "      <td>5</td>\n",
       "      <td>350000</td>\n",
       "    </tr>\n",
       "    <tr>\n",
       "      <th>19434</th>\n",
       "      <td>Maruti Wagon R</td>\n",
       "      <td>Maruti</td>\n",
       "      <td>Wagon R</td>\n",
       "      <td>6</td>\n",
       "      <td>50000</td>\n",
       "      <td>Individual</td>\n",
       "      <td>CNG</td>\n",
       "      <td>Manual</td>\n",
       "      <td>26.60</td>\n",
       "      <td>998</td>\n",
       "      <td>58.16</td>\n",
       "      <td>5</td>\n",
       "      <td>450000</td>\n",
       "    </tr>\n",
       "    <tr>\n",
       "      <th>19489</th>\n",
       "      <td>Tata Tiago</td>\n",
       "      <td>Tata</td>\n",
       "      <td>Tiago</td>\n",
       "      <td>4</td>\n",
       "      <td>30000</td>\n",
       "      <td>Individual</td>\n",
       "      <td>Petrol</td>\n",
       "      <td>Manual</td>\n",
       "      <td>23.84</td>\n",
       "      <td>1199</td>\n",
       "      <td>84.00</td>\n",
       "      <td>5</td>\n",
       "      <td>350000</td>\n",
       "    </tr>\n",
       "    <tr>\n",
       "      <th>19505</th>\n",
       "      <td>Hyundai Grand</td>\n",
       "      <td>Hyundai</td>\n",
       "      <td>Grand</td>\n",
       "      <td>6</td>\n",
       "      <td>30000</td>\n",
       "      <td>Individual</td>\n",
       "      <td>Petrol</td>\n",
       "      <td>Manual</td>\n",
       "      <td>18.90</td>\n",
       "      <td>1197</td>\n",
       "      <td>82.00</td>\n",
       "      <td>5</td>\n",
       "      <td>450000</td>\n",
       "    </tr>\n",
       "    <tr>\n",
       "      <th>19521</th>\n",
       "      <td>Land Rover Rover</td>\n",
       "      <td>Land Rover</td>\n",
       "      <td>Rover</td>\n",
       "      <td>5</td>\n",
       "      <td>128000</td>\n",
       "      <td>Dealer</td>\n",
       "      <td>Diesel</td>\n",
       "      <td>Automatic</td>\n",
       "      <td>12.63</td>\n",
       "      <td>2179</td>\n",
       "      <td>147.50</td>\n",
       "      <td>5</td>\n",
       "      <td>2675000</td>\n",
       "    </tr>\n",
       "  </tbody>\n",
       "</table>\n",
       "<p>329 rows × 13 columns</p>\n",
       "</div>"
      ],
      "text/plain": [
       "                 car_name       brand        model  vehicle_age  km_driven  \\\n",
       "31     Maruti Swift Dzire      Maruti  Swift Dzire            6      90000   \n",
       "90             Honda City       Honda         City            8      70000   \n",
       "210           Maruti Alto      Maruti         Alto            2      25000   \n",
       "261            Honda City       Honda         City            8      70000   \n",
       "281          Renault KWID     Renault         KWID            4      35000   \n",
       "...                   ...         ...          ...          ...        ...   \n",
       "19311        Maruti Swift      Maruti        Swift            8      80000   \n",
       "19434      Maruti Wagon R      Maruti      Wagon R            6      50000   \n",
       "19489          Tata Tiago        Tata        Tiago            4      30000   \n",
       "19505       Hyundai Grand     Hyundai        Grand            6      30000   \n",
       "19521    Land Rover Rover  Land Rover        Rover            5     128000   \n",
       "\n",
       "      seller_type fuel_type transmission_type  mileage  engine  max_power  \\\n",
       "31     Individual    Diesel            Manual    26.59    1248      74.00   \n",
       "90     Individual    Petrol            Manual    16.80    1497     116.30   \n",
       "210    Individual    Petrol            Manual    24.70     796      47.30   \n",
       "261    Individual    Petrol            Manual    16.80    1497     116.30   \n",
       "281    Individual    Petrol         Automatic    24.04     999      67.00   \n",
       "...           ...       ...               ...      ...     ...        ...   \n",
       "19311  Individual    Diesel            Manual    22.90    1248      74.00   \n",
       "19434  Individual       CNG            Manual    26.60     998      58.16   \n",
       "19489  Individual    Petrol            Manual    23.84    1199      84.00   \n",
       "19505  Individual    Petrol            Manual    18.90    1197      82.00   \n",
       "19521      Dealer    Diesel         Automatic    12.63    2179     147.50   \n",
       "\n",
       "       seats  selling_price  \n",
       "31         5         600000  \n",
       "90         5         545000  \n",
       "210        5         310000  \n",
       "261        5         545000  \n",
       "281        5         350000  \n",
       "...      ...            ...  \n",
       "19311      5         350000  \n",
       "19434      5         450000  \n",
       "19489      5         350000  \n",
       "19505      5         450000  \n",
       "19521      5        2675000  \n",
       "\n",
       "[329 rows x 13 columns]"
      ]
     },
     "execution_count": 65,
     "metadata": {},
     "output_type": "execute_result"
    }
   ],
   "source": [
    "df[df.duplicated(keep=False)]"
   ]
  },
  {
   "cell_type": "code",
   "execution_count": 66,
   "id": "ac003f03-5765-4a34-990d-07817039548a",
   "metadata": {},
   "outputs": [],
   "source": [
    "# Dropping duplicate rows\n",
    "df = df.drop_duplicates(keep='first', ignore_index=True)"
   ]
  },
  {
   "cell_type": "code",
   "execution_count": 67,
   "id": "affa0c61-b238-4057-8250-2b90e5fc6206",
   "metadata": {},
   "outputs": [
    {
     "data": {
      "text/plain": [
       "(0, 13)"
      ]
     },
     "execution_count": 67,
     "metadata": {},
     "output_type": "execute_result"
    }
   ],
   "source": [
    "# Final check for duplicates\n",
    "df[df.duplicated(keep=False)].shape"
   ]
  },
  {
   "cell_type": "code",
   "execution_count": 68,
   "id": "c33f7742-86db-484d-87cd-188e2f2d3c50",
   "metadata": {},
   "outputs": [],
   "source": [
    "# 1.4 Handling Datatypes"
   ]
  },
  {
   "cell_type": "code",
   "execution_count": 69,
   "id": "fac72901-2a2d-4aed-8571-7d36422cd04d",
   "metadata": {},
   "outputs": [
    {
     "data": {
      "text/plain": [
       "car_name              object\n",
       "brand                 object\n",
       "model                 object\n",
       "vehicle_age            int64\n",
       "km_driven              int64\n",
       "seller_type           object\n",
       "fuel_type             object\n",
       "transmission_type     object\n",
       "mileage              float64\n",
       "engine                 int64\n",
       "max_power            float64\n",
       "seats                  int64\n",
       "selling_price          int64\n",
       "dtype: object"
      ]
     },
     "execution_count": 69,
     "metadata": {},
     "output_type": "execute_result"
    }
   ],
   "source": [
    "df.dtypes"
   ]
  },
  {
   "cell_type": "code",
   "execution_count": 70,
   "id": "23da75a8-65f3-4821-bb97-86bd70acfccb",
   "metadata": {},
   "outputs": [
    {
     "data": {
      "text/plain": [
       "['car_name', 'brand', 'model', 'seller_type', 'fuel_type', 'transmission_type']"
      ]
     },
     "execution_count": 70,
     "metadata": {},
     "output_type": "execute_result"
    }
   ],
   "source": [
    "cat_cols"
   ]
  },
  {
   "cell_type": "code",
   "execution_count": 71,
   "id": "3eefbaed-8860-4e55-9f10-d37ce0cbdc95",
   "metadata": {},
   "outputs": [
    {
     "data": {
      "text/plain": [
       "car_name             category\n",
       "brand                category\n",
       "model                category\n",
       "seller_type          category\n",
       "fuel_type            category\n",
       "transmission_type    category\n",
       "dtype: object"
      ]
     },
     "execution_count": 71,
     "metadata": {},
     "output_type": "execute_result"
    }
   ],
   "source": [
    "df[cat_cols] = df[cat_cols].astype('category')\n",
    "df[cat_cols].dtypes"
   ]
  },
  {
   "cell_type": "code",
   "execution_count": null,
   "id": "32ccd8f8-23e5-451d-a992-f7c97e8f4eb5",
   "metadata": {},
   "outputs": [],
   "source": []
  },
  {
   "cell_type": "code",
   "execution_count": 72,
   "id": "f8fb2fb1-7b43-4491-8f5c-2a549354dc9d",
   "metadata": {},
   "outputs": [],
   "source": [
    "# 2. Train Test Split"
   ]
  },
  {
   "cell_type": "code",
   "execution_count": 73,
   "id": "47a05a20-b5ca-41d5-b16e-fd8274995f75",
   "metadata": {},
   "outputs": [],
   "source": [
    "# Independent Features\n",
    "X = df.drop(columns='selling_price', axis=1)\n",
    "# Dependent Features\n",
    "y = df['selling_price']"
   ]
  },
  {
   "cell_type": "code",
   "execution_count": 74,
   "id": "20911624-09e4-480f-be04-957be7deb5f0",
   "metadata": {},
   "outputs": [
    {
     "data": {
      "text/html": [
       "<div>\n",
       "<style scoped>\n",
       "    .dataframe tbody tr th:only-of-type {\n",
       "        vertical-align: middle;\n",
       "    }\n",
       "\n",
       "    .dataframe tbody tr th {\n",
       "        vertical-align: top;\n",
       "    }\n",
       "\n",
       "    .dataframe thead th {\n",
       "        text-align: right;\n",
       "    }\n",
       "</style>\n",
       "<table border=\"1\" class=\"dataframe\">\n",
       "  <thead>\n",
       "    <tr style=\"text-align: right;\">\n",
       "      <th></th>\n",
       "      <th>car_name</th>\n",
       "      <th>brand</th>\n",
       "      <th>model</th>\n",
       "      <th>vehicle_age</th>\n",
       "      <th>km_driven</th>\n",
       "      <th>seller_type</th>\n",
       "      <th>fuel_type</th>\n",
       "      <th>transmission_type</th>\n",
       "      <th>mileage</th>\n",
       "      <th>engine</th>\n",
       "      <th>max_power</th>\n",
       "      <th>seats</th>\n",
       "    </tr>\n",
       "  </thead>\n",
       "  <tbody>\n",
       "    <tr>\n",
       "      <th>0</th>\n",
       "      <td>Maruti Alto</td>\n",
       "      <td>Maruti</td>\n",
       "      <td>Alto</td>\n",
       "      <td>9</td>\n",
       "      <td>120000</td>\n",
       "      <td>Individual</td>\n",
       "      <td>Petrol</td>\n",
       "      <td>Manual</td>\n",
       "      <td>19.70</td>\n",
       "      <td>796</td>\n",
       "      <td>46.30</td>\n",
       "      <td>5</td>\n",
       "    </tr>\n",
       "    <tr>\n",
       "      <th>1</th>\n",
       "      <td>Hyundai Grand</td>\n",
       "      <td>Hyundai</td>\n",
       "      <td>Grand</td>\n",
       "      <td>5</td>\n",
       "      <td>20000</td>\n",
       "      <td>Individual</td>\n",
       "      <td>Petrol</td>\n",
       "      <td>Manual</td>\n",
       "      <td>18.90</td>\n",
       "      <td>1197</td>\n",
       "      <td>82.00</td>\n",
       "      <td>5</td>\n",
       "    </tr>\n",
       "    <tr>\n",
       "      <th>2</th>\n",
       "      <td>Hyundai i20</td>\n",
       "      <td>Hyundai</td>\n",
       "      <td>i20</td>\n",
       "      <td>11</td>\n",
       "      <td>60000</td>\n",
       "      <td>Individual</td>\n",
       "      <td>Petrol</td>\n",
       "      <td>Manual</td>\n",
       "      <td>17.00</td>\n",
       "      <td>1197</td>\n",
       "      <td>80.00</td>\n",
       "      <td>5</td>\n",
       "    </tr>\n",
       "    <tr>\n",
       "      <th>3</th>\n",
       "      <td>Maruti Alto</td>\n",
       "      <td>Maruti</td>\n",
       "      <td>Alto</td>\n",
       "      <td>9</td>\n",
       "      <td>37000</td>\n",
       "      <td>Individual</td>\n",
       "      <td>Petrol</td>\n",
       "      <td>Manual</td>\n",
       "      <td>20.92</td>\n",
       "      <td>998</td>\n",
       "      <td>67.10</td>\n",
       "      <td>5</td>\n",
       "    </tr>\n",
       "    <tr>\n",
       "      <th>4</th>\n",
       "      <td>Ford Ecosport</td>\n",
       "      <td>Ford</td>\n",
       "      <td>Ecosport</td>\n",
       "      <td>6</td>\n",
       "      <td>30000</td>\n",
       "      <td>Dealer</td>\n",
       "      <td>Diesel</td>\n",
       "      <td>Manual</td>\n",
       "      <td>22.77</td>\n",
       "      <td>1498</td>\n",
       "      <td>98.59</td>\n",
       "      <td>5</td>\n",
       "    </tr>\n",
       "  </tbody>\n",
       "</table>\n",
       "</div>"
      ],
      "text/plain": [
       "        car_name    brand     model  vehicle_age  km_driven seller_type  \\\n",
       "0    Maruti Alto   Maruti      Alto            9     120000  Individual   \n",
       "1  Hyundai Grand  Hyundai     Grand            5      20000  Individual   \n",
       "2    Hyundai i20  Hyundai       i20           11      60000  Individual   \n",
       "3    Maruti Alto   Maruti      Alto            9      37000  Individual   \n",
       "4  Ford Ecosport     Ford  Ecosport            6      30000      Dealer   \n",
       "\n",
       "  fuel_type transmission_type  mileage  engine  max_power  seats  \n",
       "0    Petrol            Manual    19.70     796      46.30      5  \n",
       "1    Petrol            Manual    18.90    1197      82.00      5  \n",
       "2    Petrol            Manual    17.00    1197      80.00      5  \n",
       "3    Petrol            Manual    20.92     998      67.10      5  \n",
       "4    Diesel            Manual    22.77    1498      98.59      5  "
      ]
     },
     "execution_count": 74,
     "metadata": {},
     "output_type": "execute_result"
    }
   ],
   "source": [
    "X.head()"
   ]
  },
  {
   "cell_type": "code",
   "execution_count": 75,
   "id": "b7f8475a-60c9-4f85-a747-84ed4e6abb05",
   "metadata": {},
   "outputs": [
    {
     "data": {
      "text/plain": [
       "0    120000\n",
       "1    550000\n",
       "2    215000\n",
       "3    226000\n",
       "4    570000\n",
       "Name: selling_price, dtype: int64"
      ]
     },
     "execution_count": 75,
     "metadata": {},
     "output_type": "execute_result"
    }
   ],
   "source": [
    "y.head()"
   ]
  },
  {
   "cell_type": "code",
   "execution_count": 76,
   "id": "632b8aed-1063-47ae-a22c-8e7fccdeae11",
   "metadata": {},
   "outputs": [],
   "source": [
    "from sklearn.model_selection import train_test_split"
   ]
  },
  {
   "cell_type": "code",
   "execution_count": 77,
   "id": "c7262fa4-3e1f-4c1f-8f49-53a118fbf4cb",
   "metadata": {},
   "outputs": [
    {
     "data": {
      "text/plain": [
       "((12195, 12), (3049, 12))"
      ]
     },
     "execution_count": 77,
     "metadata": {},
     "output_type": "execute_result"
    }
   ],
   "source": [
    "X_train, X_test, y_train, y_test = train_test_split(X, y, test_size=0.2, random_state=42)\n",
    "X_train.shape, X_test.shape"
   ]
  },
  {
   "cell_type": "code",
   "execution_count": null,
   "id": "cb4a3051-42da-4be8-94ff-f76e325d8bb9",
   "metadata": {},
   "outputs": [],
   "source": []
  },
  {
   "cell_type": "code",
   "execution_count": 78,
   "id": "e493ce7d-72da-419c-a61e-516f29500de4",
   "metadata": {},
   "outputs": [],
   "source": [
    "# 3. Features Encoding"
   ]
  },
  {
   "cell_type": "code",
   "execution_count": 79,
   "id": "9868df66-47aa-409b-9318-a22d12a7c7cb",
   "metadata": {},
   "outputs": [
    {
     "data": {
      "text/plain": [
       "car_name             121\n",
       "brand                 32\n",
       "model                120\n",
       "seller_type            3\n",
       "fuel_type              5\n",
       "transmission_type      2\n",
       "dtype: int64"
      ]
     },
     "execution_count": 79,
     "metadata": {},
     "output_type": "execute_result"
    }
   ],
   "source": [
    "# Calculating number of unique classes in cateegorical features\n",
    "unique_values = df[cat_cols].nunique()\n",
    "unique_values# Train Test Split"
   ]
  },
  {
   "cell_type": "code",
   "execution_count": 80,
   "id": "79ef37aa-c0a1-400f-90ca-c11f5f8a773e",
   "metadata": {},
   "outputs": [],
   "source": [
    "# OneHotEncoder : seller_type, fuel_type, transmission_type have low number of unique values. They can be OneHotEncoded\n",
    "# OrdinalEncoder: car_name, brand and model have higher number of unique features. They have to be encoded using OrdinalEncoder"
   ]
  },
  {
   "cell_type": "code",
   "execution_count": 81,
   "id": "244a46fe-1dc0-45ac-86b5-efe4ec28ca5e",
   "metadata": {},
   "outputs": [
    {
     "data": {
      "text/plain": [
       "(['seller_type', 'fuel_type', 'transmission_type'],\n",
       " ['car_name', 'brand', 'model'])"
      ]
     },
     "execution_count": 81,
     "metadata": {},
     "output_type": "execute_result"
    }
   ],
   "source": [
    "# OneHotEncoder columns\n",
    "onehot_cols = unique_values[unique_values <= 5].index.to_list()\n",
    "# Ordinal Encoder Columns\n",
    "ordinal_cols = unique_values[unique_values > 5].index.to_list()\n",
    "\n",
    "onehot_cols, ordinal_cols"
   ]
  },
  {
   "cell_type": "code",
   "execution_count": 82,
   "id": "c5819fee-c7be-47a1-9712-def8663cc41d",
   "metadata": {},
   "outputs": [],
   "source": [
    "from sklearn.preprocessing import OneHotEncoder, OrdinalEncoder\n",
    "from sklearn.compose import ColumnTransformer "
   ]
  },
  {
   "cell_type": "code",
   "execution_count": 83,
   "id": "8c512b83-ee04-497a-b2ad-d058e30cd714",
   "metadata": {},
   "outputs": [],
   "source": [
    "# Initializing Column Transformer\n",
    "pre_processor = ColumnTransformer(transformers=[('onehot', OneHotEncoder(drop='first', handle_unknown='ignore'), onehot_cols),\n",
    "                                               ('ordinal', OrdinalEncoder(handle_unknown='use_encoded_value', unknown_value=-1), ordinal_cols)], remainder='passthrough', n_jobs=-1)"
   ]
  },
  {
   "cell_type": "code",
   "execution_count": 84,
   "id": "4e74c91a-21d1-419c-a5b6-be9a10081884",
   "metadata": {},
   "outputs": [],
   "source": [
    "# Pre-processing X_train\n",
    "X_train = pre_processor.fit_transform(X_train)"
   ]
  },
  {
   "cell_type": "code",
   "execution_count": 85,
   "id": "7ff55877-ca55-4613-90e2-80b4dc8fa042",
   "metadata": {},
   "outputs": [],
   "source": [
    "# Pre-processing X_test\n",
    "X_test = pre_processor.transform(X_test)"
   ]
  },
  {
   "cell_type": "code",
   "execution_count": 86,
   "id": "58574c67-7c02-4851-a32d-55f0c22c826e",
   "metadata": {},
   "outputs": [
    {
     "data": {
      "text/plain": [
       "array(['onehot__seller_type_Individual',\n",
       "       'onehot__seller_type_Trustmark Dealer', 'onehot__fuel_type_Diesel',\n",
       "       'onehot__fuel_type_Electric', 'onehot__fuel_type_LPG',\n",
       "       'onehot__fuel_type_Petrol', 'onehot__transmission_type_Manual',\n",
       "       'ordinal__car_name', 'ordinal__brand', 'ordinal__model',\n",
       "       'remainder__vehicle_age', 'remainder__km_driven',\n",
       "       'remainder__mileage', 'remainder__engine', 'remainder__max_power',\n",
       "       'remainder__seats'], dtype=object)"
      ]
     },
     "execution_count": 86,
     "metadata": {},
     "output_type": "execute_result"
    }
   ],
   "source": [
    "encoded_cols = pre_processor.get_feature_names_out()\n",
    "encoded_cols"
   ]
  },
  {
   "cell_type": "code",
   "execution_count": 87,
   "id": "bf92920b-a640-4f50-ac96-a97882274765",
   "metadata": {},
   "outputs": [
    {
     "data": {
      "text/html": [
       "<div>\n",
       "<style scoped>\n",
       "    .dataframe tbody tr th:only-of-type {\n",
       "        vertical-align: middle;\n",
       "    }\n",
       "\n",
       "    .dataframe tbody tr th {\n",
       "        vertical-align: top;\n",
       "    }\n",
       "\n",
       "    .dataframe thead th {\n",
       "        text-align: right;\n",
       "    }\n",
       "</style>\n",
       "<table border=\"1\" class=\"dataframe\">\n",
       "  <thead>\n",
       "    <tr style=\"text-align: right;\">\n",
       "      <th></th>\n",
       "      <th>onehot__seller_type_Individual</th>\n",
       "      <th>onehot__seller_type_Trustmark Dealer</th>\n",
       "      <th>onehot__fuel_type_Diesel</th>\n",
       "      <th>onehot__fuel_type_Electric</th>\n",
       "      <th>onehot__fuel_type_LPG</th>\n",
       "      <th>onehot__fuel_type_Petrol</th>\n",
       "      <th>onehot__transmission_type_Manual</th>\n",
       "      <th>ordinal__car_name</th>\n",
       "      <th>ordinal__brand</th>\n",
       "      <th>ordinal__model</th>\n",
       "      <th>remainder__vehicle_age</th>\n",
       "      <th>remainder__km_driven</th>\n",
       "      <th>remainder__mileage</th>\n",
       "      <th>remainder__engine</th>\n",
       "      <th>remainder__max_power</th>\n",
       "      <th>remainder__seats</th>\n",
       "    </tr>\n",
       "  </thead>\n",
       "  <tbody>\n",
       "    <tr>\n",
       "      <th>0</th>\n",
       "      <td>0.0</td>\n",
       "      <td>0.0</td>\n",
       "      <td>1.0</td>\n",
       "      <td>0.0</td>\n",
       "      <td>0.0</td>\n",
       "      <td>0.0</td>\n",
       "      <td>1.0</td>\n",
       "      <td>72.0</td>\n",
       "      <td>18.0</td>\n",
       "      <td>42.0</td>\n",
       "      <td>5.0</td>\n",
       "      <td>41974.0</td>\n",
       "      <td>24.52</td>\n",
       "      <td>1248.0</td>\n",
       "      <td>88.50</td>\n",
       "      <td>7.0</td>\n",
       "    </tr>\n",
       "    <tr>\n",
       "      <th>1</th>\n",
       "      <td>1.0</td>\n",
       "      <td>0.0</td>\n",
       "      <td>0.0</td>\n",
       "      <td>0.0</td>\n",
       "      <td>0.0</td>\n",
       "      <td>1.0</td>\n",
       "      <td>1.0</td>\n",
       "      <td>78.0</td>\n",
       "      <td>18.0</td>\n",
       "      <td>99.0</td>\n",
       "      <td>16.0</td>\n",
       "      <td>90000.0</td>\n",
       "      <td>14.00</td>\n",
       "      <td>1061.0</td>\n",
       "      <td>64.00</td>\n",
       "      <td>5.0</td>\n",
       "    </tr>\n",
       "    <tr>\n",
       "      <th>2</th>\n",
       "      <td>1.0</td>\n",
       "      <td>0.0</td>\n",
       "      <td>1.0</td>\n",
       "      <td>0.0</td>\n",
       "      <td>0.0</td>\n",
       "      <td>0.0</td>\n",
       "      <td>1.0</td>\n",
       "      <td>114.0</td>\n",
       "      <td>30.0</td>\n",
       "      <td>94.0</td>\n",
       "      <td>10.0</td>\n",
       "      <td>80000.0</td>\n",
       "      <td>20.54</td>\n",
       "      <td>1598.0</td>\n",
       "      <td>103.60</td>\n",
       "      <td>5.0</td>\n",
       "    </tr>\n",
       "    <tr>\n",
       "      <th>3</th>\n",
       "      <td>0.0</td>\n",
       "      <td>0.0</td>\n",
       "      <td>0.0</td>\n",
       "      <td>0.0</td>\n",
       "      <td>0.0</td>\n",
       "      <td>1.0</td>\n",
       "      <td>0.0</td>\n",
       "      <td>100.0</td>\n",
       "      <td>27.0</td>\n",
       "      <td>86.0</td>\n",
       "      <td>8.0</td>\n",
       "      <td>55572.0</td>\n",
       "      <td>13.70</td>\n",
       "      <td>1798.0</td>\n",
       "      <td>157.75</td>\n",
       "      <td>5.0</td>\n",
       "    </tr>\n",
       "    <tr>\n",
       "      <th>4</th>\n",
       "      <td>1.0</td>\n",
       "      <td>0.0</td>\n",
       "      <td>0.0</td>\n",
       "      <td>0.0</td>\n",
       "      <td>0.0</td>\n",
       "      <td>1.0</td>\n",
       "      <td>1.0</td>\n",
       "      <td>95.0</td>\n",
       "      <td>25.0</td>\n",
       "      <td>64.0</td>\n",
       "      <td>4.0</td>\n",
       "      <td>110000.0</td>\n",
       "      <td>23.01</td>\n",
       "      <td>999.0</td>\n",
       "      <td>67.00</td>\n",
       "      <td>5.0</td>\n",
       "    </tr>\n",
       "  </tbody>\n",
       "</table>\n",
       "</div>"
      ],
      "text/plain": [
       "   onehot__seller_type_Individual  onehot__seller_type_Trustmark Dealer  \\\n",
       "0                             0.0                                   0.0   \n",
       "1                             1.0                                   0.0   \n",
       "2                             1.0                                   0.0   \n",
       "3                             0.0                                   0.0   \n",
       "4                             1.0                                   0.0   \n",
       "\n",
       "   onehot__fuel_type_Diesel  onehot__fuel_type_Electric  \\\n",
       "0                       1.0                         0.0   \n",
       "1                       0.0                         0.0   \n",
       "2                       1.0                         0.0   \n",
       "3                       0.0                         0.0   \n",
       "4                       0.0                         0.0   \n",
       "\n",
       "   onehot__fuel_type_LPG  onehot__fuel_type_Petrol  \\\n",
       "0                    0.0                       0.0   \n",
       "1                    0.0                       1.0   \n",
       "2                    0.0                       0.0   \n",
       "3                    0.0                       1.0   \n",
       "4                    0.0                       1.0   \n",
       "\n",
       "   onehot__transmission_type_Manual  ordinal__car_name  ordinal__brand  \\\n",
       "0                               1.0               72.0            18.0   \n",
       "1                               1.0               78.0            18.0   \n",
       "2                               1.0              114.0            30.0   \n",
       "3                               0.0              100.0            27.0   \n",
       "4                               1.0               95.0            25.0   \n",
       "\n",
       "   ordinal__model  remainder__vehicle_age  remainder__km_driven  \\\n",
       "0            42.0                     5.0               41974.0   \n",
       "1            99.0                    16.0               90000.0   \n",
       "2            94.0                    10.0               80000.0   \n",
       "3            86.0                     8.0               55572.0   \n",
       "4            64.0                     4.0              110000.0   \n",
       "\n",
       "   remainder__mileage  remainder__engine  remainder__max_power  \\\n",
       "0               24.52             1248.0                 88.50   \n",
       "1               14.00             1061.0                 64.00   \n",
       "2               20.54             1598.0                103.60   \n",
       "3               13.70             1798.0                157.75   \n",
       "4               23.01              999.0                 67.00   \n",
       "\n",
       "   remainder__seats  \n",
       "0               7.0  \n",
       "1               5.0  \n",
       "2               5.0  \n",
       "3               5.0  \n",
       "4               5.0  "
      ]
     },
     "execution_count": 87,
     "metadata": {},
     "output_type": "execute_result"
    }
   ],
   "source": [
    "# Making X_train and X_test pandas dataframes\n",
    "X_train = pd.DataFrame(X_train, columns = encoded_cols)\n",
    "X_test = pd.DataFrame(X_test, columns = encoded_cols)\n",
    "X_train.head()"
   ]
  },
  {
   "cell_type": "code",
   "execution_count": 88,
   "id": "29f3c51f-4198-465c-a3e6-46034d97b1f7",
   "metadata": {},
   "outputs": [
    {
     "data": {
      "text/plain": [
       "onehot__seller_type_Individual          float64\n",
       "onehot__seller_type_Trustmark Dealer    float64\n",
       "onehot__fuel_type_Diesel                float64\n",
       "onehot__fuel_type_Electric              float64\n",
       "onehot__fuel_type_LPG                   float64\n",
       "onehot__fuel_type_Petrol                float64\n",
       "onehot__transmission_type_Manual        float64\n",
       "ordinal__car_name                       float64\n",
       "ordinal__brand                          float64\n",
       "ordinal__model                          float64\n",
       "remainder__vehicle_age                  float64\n",
       "remainder__km_driven                    float64\n",
       "remainder__mileage                      float64\n",
       "remainder__engine                       float64\n",
       "remainder__max_power                    float64\n",
       "remainder__seats                        float64\n",
       "dtype: object"
      ]
     },
     "execution_count": 88,
     "metadata": {},
     "output_type": "execute_result"
    }
   ],
   "source": [
    "X_train.dtypes"
   ]
  },
  {
   "cell_type": "code",
   "execution_count": 89,
   "id": "bab0a39b-5fc8-4de3-8d82-ecf7d7716392",
   "metadata": {},
   "outputs": [
    {
     "data": {
      "text/plain": [
       "onehot__seller_type_Individual           float64\n",
       "onehot__seller_type_Trustmark Dealer     float64\n",
       "onehot__fuel_type_Diesel                 float64\n",
       "onehot__fuel_type_Electric               float64\n",
       "onehot__fuel_type_LPG                    float64\n",
       "onehot__fuel_type_Petrol                 float64\n",
       "onehot__transmission_type_Manual         float64\n",
       "ordinal__car_name                       category\n",
       "ordinal__brand                          category\n",
       "ordinal__model                          category\n",
       "remainder__vehicle_age                   float64\n",
       "remainder__km_driven                     float64\n",
       "remainder__mileage                       float64\n",
       "remainder__engine                        float64\n",
       "remainder__max_power                     float64\n",
       "remainder__seats                         float64\n",
       "dtype: object"
      ]
     },
     "execution_count": 89,
     "metadata": {},
     "output_type": "execute_result"
    }
   ],
   "source": [
    "# Changing data types of ordinal columns to category\n",
    "ordinal_columns = X_train.filter(like='ordinal').columns.tolist()\n",
    "X_train[ordinal_columns] = X_train[ordinal_columns].astype('category')\n",
    "X_test[ordinal_columns] = X_test[ordinal_columns].astype('category')\n",
    "X_train.dtypes"
   ]
  },
  {
   "cell_type": "code",
   "execution_count": 90,
   "id": "82e938f3-9813-4fc4-bfe5-e3dd7af2ae41",
   "metadata": {},
   "outputs": [
    {
     "data": {
      "text/plain": [
       "dtype('int64')"
      ]
     },
     "execution_count": 90,
     "metadata": {},
     "output_type": "execute_result"
    }
   ],
   "source": [
    "y_train.dtypes"
   ]
  },
  {
   "cell_type": "code",
   "execution_count": 91,
   "id": "5bcb0141-5bee-4046-ae93-d0c5a27c0b9f",
   "metadata": {},
   "outputs": [],
   "source": [
    "# 4. Random Forest Model"
   ]
  },
  {
   "cell_type": "code",
   "execution_count": 92,
   "id": "3a8dafb4-3535-4cc3-99f1-8fe0fb4bc743",
   "metadata": {},
   "outputs": [
    {
     "data": {
      "text/plain": [
       "onehot__seller_type_Individual           float64\n",
       "onehot__seller_type_Trustmark Dealer     float64\n",
       "onehot__fuel_type_Diesel                 float64\n",
       "onehot__fuel_type_Electric               float64\n",
       "onehot__fuel_type_LPG                    float64\n",
       "onehot__fuel_type_Petrol                 float64\n",
       "onehot__transmission_type_Manual         float64\n",
       "ordinal__car_name                       category\n",
       "ordinal__brand                          category\n",
       "ordinal__model                          category\n",
       "remainder__vehicle_age                   float64\n",
       "remainder__km_driven                     float64\n",
       "remainder__mileage                       float64\n",
       "remainder__engine                        float64\n",
       "remainder__max_power                     float64\n",
       "remainder__seats                         float64\n",
       "dtype: object"
      ]
     },
     "execution_count": 92,
     "metadata": {},
     "output_type": "execute_result"
    }
   ],
   "source": [
    "X_train.dtypes"
   ]
  },
  {
   "cell_type": "code",
   "execution_count": 93,
   "id": "d4d8bdbf-28db-4a51-a1d1-5513c885f863",
   "metadata": {},
   "outputs": [
    {
     "data": {
      "text/plain": [
       "dtype('int64')"
      ]
     },
     "execution_count": 93,
     "metadata": {},
     "output_type": "execute_result"
    }
   ],
   "source": [
    "y_train.dtypes"
   ]
  },
  {
   "cell_type": "code",
   "execution_count": null,
   "id": "e0f5e397-7a15-45aa-a454-640e481931f0",
   "metadata": {},
   "outputs": [],
   "source": []
  },
  {
   "cell_type": "code",
   "execution_count": 94,
   "id": "463b510c-af39-4400-bd5b-6258cf7fd362",
   "metadata": {},
   "outputs": [],
   "source": [
    "# Random Forest Model"
   ]
  },
  {
   "cell_type": "code",
   "execution_count": 95,
   "id": "1d771407-f3d9-463c-8d00-4b7047c5703d",
   "metadata": {},
   "outputs": [],
   "source": [
    "# from sklearn.ensemble import RandomForestRegressor\n",
    "# from sklearn.metrics import r2_score, mean_absolute_error, mean_squared_error\n",
    "from random_forest import RandomForestRegressor"
   ]
  },
  {
   "cell_type": "code",
   "execution_count": 96,
   "id": "3fba212a-cb05-4949-8af4-7ca4ece6cb7b",
   "metadata": {},
   "outputs": [],
   "source": [
    "sample_model = RandomForestRegressor(\n",
    "    n_estimators=100, max_depth=10\n",
    ")"
   ]
  },
  {
   "cell_type": "code",
   "execution_count": 97,
   "id": "74b60bae-b760-4c52-b8fe-a112e63b9e86",
   "metadata": {},
   "outputs": [],
   "source": [
    "sample_model.fit(X_train.values, y_train.values)"
   ]
  },
  {
   "cell_type": "code",
   "execution_count": 98,
   "id": "b7b94eb6-9122-435a-9133-5d8e47d8d272",
   "metadata": {},
   "outputs": [],
   "source": [
    "sample_y_pred = sample_model.predict(X_test.values)"
   ]
  },
  {
   "cell_type": "code",
   "execution_count": 99,
   "id": "08046193-4591-432b-b878-a7c0ca1cc330",
   "metadata": {},
   "outputs": [],
   "source": [
    "def r2_score(y_true, y_pred):\n",
    "    y_mean = np.mean(y_true)\n",
    "    ss_tot = np.sum((y_true - y_mean) ** 2)\n",
    "    ss_res = np.sum((y_true - y_pred) ** 2)\n",
    "    return 1 - (ss_res / ss_tot)\n",
    "\n",
    "# Using RMSE (Root Mean Square Error)\n",
    "def rmse(y_true, y_pred):\n",
    "    return np.sqrt(np.mean((y_true - y_pred) ** 2))"
   ]
  },
  {
   "cell_type": "code",
   "execution_count": 100,
   "id": "a38210d3-4981-4fca-9a0c-714e8e2841bc",
   "metadata": {},
   "outputs": [],
   "source": [
    "r2score = r2_score(y_test, sample_y_pred)"
   ]
  },
  {
   "cell_type": "code",
   "execution_count": 101,
   "id": "9c61b5e4-bcea-4687-87e7-8c69b6bac114",
   "metadata": {},
   "outputs": [
    {
     "name": "stdout",
     "output_type": "stream",
     "text": [
      "Accuracy 0.8765315141808502\n"
     ]
    }
   ],
   "source": [
    "print(\"Accuracy\",r2score)"
   ]
  },
  {
   "cell_type": "code",
   "execution_count": 102,
   "id": "ed30edf0-ff30-4319-af6b-38c3c423baf5",
   "metadata": {},
   "outputs": [
    {
     "data": {
      "image/png": "[encoded data removed]",
      "text/plain": [
       "<Figure size 1000x600 with 1 Axes>"
      ]
     },
     "metadata": {},
     "output_type": "display_data"
    }
   ],
   "source": [
    "import matplotlib.pyplot as plt\n",
    "plt.figure(figsize=(10, 6))\n",
    "plt.scatter(y_test, sample_y_pred, color='green')\n",
    "plt.plot([y_test.min(), y_test.max()], [y_test.min(), y_test.max()], '--k', lw=2)\n",
    "plt.text(0.1, 0.9, f'R²: {r2score:.2f}', fontsize=14, transform=plt.gca().transAxes)\n",
    "plt.xlabel('Actual')\n",
    "plt.ylabel('Predicted')\n",
    "plt.title('Actual vs Predicted with R² Score')\n",
    "plt.show()"
   ]
  },
  {
   "cell_type": "code",
   "execution_count": 103,
   "id": "6079cb11-4787-49db-bd0c-dbef7e0b304b",
   "metadata": {},
   "outputs": [],
   "source": [
    "sample_rmse = rmse(y_test, sample_y_pred)"
   ]
  },
  {
   "cell_type": "code",
   "execution_count": 104,
   "id": "020ef096-a085-4faa-add4-87a6150b5a64",
   "metadata": {},
   "outputs": [
    {
     "data": {
      "image/png": "[encoded data removed]",
      "text/plain": [
       "<Figure size 1000x600 with 1 Axes>"
      ]
     },
     "metadata": {},
     "output_type": "display_data"
    }
   ],
   "source": [
    "plt.figure(figsize=(10, 6))\n",
    "plt.scatter(y_test, sample_y_pred, color='blue', alpha=0.6)\n",
    "plt.plot([y_test.min(), y_test.max()], [y_test.min(), y_test.max()], '--r', lw=2)\n",
    "plt.text(0.1, 0.9, f'RMSE: {sample_rmse:.2f}', fontsize=14, transform=plt.gca().transAxes)\n",
    "plt.xlabel('Actual')\n",
    "plt.ylabel('Predicted')\n",
    "plt.title('Actual vs Predicted with RMSE')\n",
    "plt.show()"
   ]
  },
  {
   "cell_type": "code",
   "execution_count": null,
   "id": "76f5db77-a894-42b6-90e3-81e93b12f5ab",
   "metadata": {},
   "outputs": [],
   "source": []
  }
 ],
 "metadata": {
  "kernelspec": {
   "display_name": "Python 3 (ipykernel)",
   "language": "python",
   "name": "python3"
  },
  "language_info": {
   "codemirror_mode": {
    "name": "ipython",
    "version": 3
   },
   "file_extension": ".py",
   "mimetype": "text/x-python",
   "name": "python",
   "nbconvert_exporter": "python",
   "pygments_lexer": "ipython3",
   "version": "3.10.12"
  }
 },
 "nbformat": 4,
 "nbformat_minor": 5
}
